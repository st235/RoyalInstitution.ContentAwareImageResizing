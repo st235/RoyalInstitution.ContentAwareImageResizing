{
 "cells": [
  {
   "cell_type": "code",
   "execution_count": 1,
   "id": "b3b00804",
   "metadata": {},
   "outputs": [],
   "source": [
    "import cv2\n",
    "import numpy as np\n",
    "import pandas as pd\n",
    "import matplotlib.pylab as plt\n",
    "from IPython.display import clear_output"
   ]
  },
  {
   "cell_type": "code",
   "execution_count": 2,
   "id": "0f3f7880",
   "metadata": {},
   "outputs": [],
   "source": [
    "def load_image(path):\n",
    "  \"\"\"Loads an image from hard drive using the given path.\n",
    "  \"\"\"\n",
    "  return cv2.imread(path)"
   ]
  },
  {
   "cell_type": "code",
   "execution_count": 3,
   "id": "92a141f7",
   "metadata": {},
   "outputs": [],
   "source": [
    "def show_image(image):\n",
    "  \"\"\"Shows the image.\n",
    "  \"\"\"\n",
    "  plt.imshow(cv2.cvtColor(image, cv2.COLOR_BGR2RGB))"
   ]
  },
  {
   "cell_type": "code",
   "execution_count": 4,
   "id": "73a10abd",
   "metadata": {},
   "outputs": [],
   "source": [
    "def convert_to_grayscale(image):\n",
    "    \"\"\"Converts the given image to the greyscale.\n",
    "    \"\"\"\n",
    "    return cv2.cvtColor(image, cv2.COLOR_BGR2GRAY)"
   ]
  },
  {
   "cell_type": "code",
   "execution_count": 5,
   "id": "ecb7f445",
   "metadata": {},
   "outputs": [],
   "source": [
    "def __fast_convolve(image, kernel):\n",
    "    \"\"\"Applies kernel to the given image.\n",
    "    \"\"\"\n",
    "    image_fft = np.fft.rfft2(image)\n",
    "    kernel_fft = np.fft.rfft2(kernel,image.shape)\n",
    "    return np.fft.irfft2(image_fft*kernel_fft)\n",
    "\n",
    "def get_edges(image):\n",
    "    \"\"\"Finds image edges.\n",
    "    \"\"\"\n",
    "    sx = np.array([[ 1, 2, 1],\n",
    "                   [ 0, 0, 0],\n",
    "                   [-1,-2,-1]])\n",
    "    \n",
    "    sy = np.array([[ 1, 0, -1],\n",
    "                   [ 2, 0, -2],\n",
    "                   [ 1, 0, -1]])\n",
    "    \n",
    "    edge_horizontal = __fast_convolve(image, sx)\n",
    "    edge_vertical = __fast_convolve(image, sy)\n",
    "    \n",
    "    return np.sqrt(np.square(edge_horizontal) + np.square(edge_vertical))"
   ]
  },
  {
   "cell_type": "code",
   "execution_count": 6,
   "id": "ee81cc3a",
   "metadata": {},
   "outputs": [],
   "source": [
    "def calculate_cost(image_edges):\n",
    "    \"\"\"Calculates energy/cost of the edges.\n",
    "       In other words, this function finds areas with interesting\n",
    "       objects in it.\n",
    "    \"\"\"\n",
    "    r, c = image_edges.shape\n",
    "    cost = np.zeros(image_edges.shape)\n",
    "    cost[r-1,:] = image_edges[r-1,:]\n",
    "    \n",
    "    for i in range(r-2,-1,-1):\n",
    "        for j in range(c):\n",
    "            c1,c2 = max(j-1,0),min(c,j+2)\n",
    "            cost[i][j] = image_edges[i][j] + cost[i+1,c1:c2].min()\n",
    "                \n",
    "    return cost"
   ]
  },
  {
   "cell_type": "code",
   "execution_count": 7,
   "id": "243210d0",
   "metadata": {},
   "outputs": [],
   "source": [
    "def find_seam(image_cost):\n",
    "    \"\"\"Finds seam (path) with the minimum energy/cost.\n",
    "    \"\"\"\n",
    "    r, c = image_cost.shape\n",
    "    \n",
    "    seam = []\n",
    "    j = image_cost[0].argmin()\n",
    "    seam.append(j)\n",
    "    \n",
    "    for i in range(r-1):\n",
    "        c1,c2 = max(j-1,0),min(c,j+2)\n",
    "        j = max(j-1,0)+image_cost[i+1,c1:c2].argmin()\n",
    "        seam.append(j)\n",
    "\n",
    "    return seam"
   ]
  },
  {
   "cell_type": "code",
   "execution_count": 8,
   "id": "b5e61bb8",
   "metadata": {},
   "outputs": [],
   "source": [
    "def remove_seam(image, seam):\n",
    "    \"\"\"Removes the given seam from the image.\n",
    "    \"\"\"\n",
    "    r, c, _ = image.shape\n",
    "    new_image = np.zeros((r,c,3))\n",
    "\n",
    "    for i, j in enumerate(seam):\n",
    "        new_image[i,0:j,:] = image[i,0:j,:]\n",
    "        new_image[i,j:c-1,:] = image[i,j+1:c,:]\n",
    "    return new_image[:,:-1,:].astype(np.uint8)"
   ]
  },
  {
   "cell_type": "code",
   "execution_count": 9,
   "id": "90acb965",
   "metadata": {},
   "outputs": [],
   "source": [
    "def draw_seam(image, seam):\n",
    "    \"\"\"Draws the given seam on the given image.\n",
    "       Comes handy for debugging seams.\n",
    "    \"\"\"\n",
    "    image_canvas = np.copy(image)\n",
    "    image_canvas[range(len(seam)),seam,:] = np.array([255,0,0])\n",
    "    return image_canvas"
   ]
  },
  {
   "cell_type": "code",
   "execution_count": 10,
   "id": "c6481639",
   "metadata": {},
   "outputs": [],
   "source": [
    "def horizontal_seam_carving(image, dw):\n",
    "    \"\"\"Horizontal content-aware image resizing.\n",
    "       Horizontal means that the methods removes columns of the image.\n",
    "    \"\"\"\n",
    "    carved_image = np.copy(image) \n",
    "    for i in range(0, dw):\n",
    "        carved_image = horizontal_seam_carving_one_step(carved_image)\n",
    "        clear_output(wait=True)\n",
    "        print(\"[Seam Carving] Progress: {:.0f}%\".format((i + 1) / dw * 100))\n",
    "    return carved_image"
   ]
  },
  {
   "cell_type": "code",
   "execution_count": 11,
   "id": "d7384e62",
   "metadata": {},
   "outputs": [],
   "source": [
    "def vertical_seam_carving(image, dh):\n",
    "    \"\"\"Vertical content-aware image resizing.\n",
    "       Vertical means that the methods removes rows of the image.\n",
    "    \"\"\"\n",
    "    carved_image = np.copy(image)\n",
    "    carved_image = carved_image.transpose(1, 0, 2)\n",
    "    carved_image = horizontal_seam_carving(carved_image, dh)\n",
    "    carved_image = carved_image.transpose(1, 0, 2)\n",
    "    return carved_image"
   ]
  },
  {
   "cell_type": "markdown",
   "id": "a1d1cd06",
   "metadata": {},
   "source": [
    "**Exercise:** you need to implement one step of seam carving algorithm. In other words, we need to remove only 1 vertical column from the image.\n",
    "\n",
    "Remember the steps that we discussed during the lecture:\n",
    "1. Convert image to grayscale\n",
    "2. Find edges\n",
    "3. Calculate energy function (aka cost function)\n",
    "4. Find a seam (aka path from top to bottom) with the minimal energy\n",
    "5. Remove the seam from the image\n",
    "6. Return the image\n",
    "\n",
    "**Note:** we prepared a few handy methods for you.\n",
    "\n",
    "- `convert_to_grayscale(img)`: converts a bgr image to grayscale\n",
    "- `get_edges(grayscale_image)`: extracts edges from a grayscale image\n",
    "- `calculate_cost(edges)`: calculates energy (aka cost) matrix\n",
    "- `find_seam(cost_matrix)`: find a seam with min energy\n",
    "- `remove_seam(img)`: removes a seam from the image\n",
    "\n",
    "- `draw_seam(img)`: draws a seam on the image (instead of removing it), may come handy during debugging\n",
    "\n",
    "- `vertical_seam_carving(img, dh)`: carves `dh` rows from the `img`\n",
    "- `horizontal_seam_carving(img, dw)`: carves `dw` columns from the `img`\n",
    "\n",
    "\n",
    "**Test:** call a method with an image and you should see a resized version of the image."
   ]
  },
  {
   "cell_type": "code",
   "execution_count": null,
   "id": "bea0a91b",
   "metadata": {},
   "outputs": [],
   "source": [
    "def horizontal_seam_carving_one_step(image):\n",
    "    \"\"\"Implement one step of seam carving algorithm.\"\"\"\n",
    "    pass"
   ]
  },
  {
   "cell_type": "code",
   "execution_count": null,
   "id": "34bf931d",
   "metadata": {},
   "outputs": [],
   "source": [
    "show_image(load_image(\"images/plane_4.jpeg\"))"
   ]
  },
  {
   "cell_type": "code",
   "execution_count": null,
   "id": "15d5fb74",
   "metadata": {},
   "outputs": [],
   "source": [
    "%%time\n",
    "# This is a function to test your code. Replace the image with any image you want.\n",
    "show_image(vertical_seam_carving(load_image(\"images/plane_4.jpeg\"), 200))"
   ]
  },
  {
   "cell_type": "code",
   "execution_count": null,
   "id": "34ef6047",
   "metadata": {},
   "outputs": [],
   "source": []
  }
 ],
 "metadata": {
  "kernelspec": {
   "display_name": "Python 3 (ipykernel)",
   "language": "python",
   "name": "python3"
  },
  "language_info": {
   "codemirror_mode": {
    "name": "ipython",
    "version": 3
   },
   "file_extension": ".py",
   "mimetype": "text/x-python",
   "name": "python",
   "nbconvert_exporter": "python",
   "pygments_lexer": "ipython3",
   "version": "3.9.13"
  }
 },
 "nbformat": 4,
 "nbformat_minor": 5
}
